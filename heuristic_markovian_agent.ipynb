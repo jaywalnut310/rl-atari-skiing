{
 "cells": [
  {
   "cell_type": "code",
   "execution_count": 3,
   "metadata": {},
   "outputs": [],
   "source": [
    "%matplotlib inline\n",
    "import matplotlib.pyplot as plt\n",
    "from IPython import display\n",
    "\n",
    "import random\n",
    "\n",
    "import numpy as np\n",
    "import gym\n",
    "\n",
    "env_name = \"Skiing-v0\"\n",
    "env = gym.make(env_name)"
   ]
  },
  {
   "cell_type": "code",
   "execution_count": 4,
   "metadata": {},
   "outputs": [],
   "source": [
    "def render(x, step=0):\n",
    "  display.clear_output(wait=True)\n",
    "\n",
    "  plt.figure(figsize=(6, 6))\n",
    "  plt.clf()\n",
    "  plt.axis(\"off\")\n",
    "  plt.title(\"step: %d\" % step)\n",
    "  plt.imshow(x, cmap=plt.cm.gray)\n",
    "  plt.pause(0.001)   # pause for plots to update"
   ]
  },
  {
   "cell_type": "code",
   "execution_count": 5,
   "metadata": {},
   "outputs": [],
   "source": [
    "# Objects can be distinquished by RGB codes.\n",
    "# Player: [214, 92, 92]\n",
    "# Flags (blue): [66, 72, 200]\n",
    "# Flags (red): [184, 50, 50]\n",
    "\n",
    "def get_pos_player(observe):\n",
    "  ids = np.where(np.sum(observe == [214, 92, 92], -1) == 3)\n",
    "  return ids[0].mean(), ids[1].mean()\n",
    "\n",
    "def get_pos_flags(observe):\n",
    "  if np.any(np.sum(observe == [184, 50, 50], -1) == 3):\n",
    "    ids = np.where(np.sum(observe == [184, 50, 50], -1) == 3)\n",
    "    return ids[0].mean(), ids[1].mean()\n",
    "  else:\n",
    "    base = 0\n",
    "    ids = np.where(np.sum(observe[base:-60] == [66, 72, 200], -1) == 3)\n",
    "    return ids[0].mean() + base, ids[1].mean()\n",
    "\n",
    "def get_speed(observe, observe_old):\n",
    "  # As the vertical location of the player is not changed, \n",
    "  # I estimate the vertical speed by measuring how much frames are shifted up.\n",
    "  min_val = np.inf\n",
    "  min_idx = 0\n",
    "  for k in range(0, 7):\n",
    "    val = np.sum(np.abs(observe[54:-52,8:152] - observe_old[54+k:-52+k,8:152]))\n",
    "    if min_val > val:\n",
    "      min_idx = k\n",
    "      min_val = val\n",
    "  return min_idx"
   ]
  },
  {
   "cell_type": "code",
   "execution_count": 6,
   "metadata": {},
   "outputs": [],
   "source": [
    "observe = env.reset()\n",
    "step = 0\n",
    "done = False\n",
    "\n",
    "# states\n",
    "r_a, c_a = get_pos_player(observe)\n",
    "r_f, c_f = get_pos_flags(observe)\n",
    "r_a_old, c_a_old = r_a, c_a\n",
    "observe_old = observe"
   ]
  },
  {
   "cell_type": "code",
   "execution_count": 7,
   "metadata": {},
   "outputs": [
    {
     "data": {
      "image/png": "[encoded data removed]",
      "text/plain": [
       "<matplotlib.figure.Figure at 0x7fe46ca99438>"
      ]
     },
     "metadata": {
      "needs_background": "light"
     },
     "output_type": "display_data"
    }
   ],
   "source": [
    "while not done:\n",
    "  step += 1\n",
    "  \n",
    "  v_f = np.arctan2(r_f - r_a, c_f - c_a) # direction from player to target\n",
    "  v_a = np.arctan2(get_speed(observe, observe_old), c_a - c_a_old) # speed vector of the player\n",
    "  \n",
    "  r_a_old, c_a_old = r_a, c_a\n",
    "  observe_old = observe\n",
    "  if np.abs(v_a) == 0:\n",
    "    # no movement\n",
    "    act = np.random.choice(3, 1)[0]\n",
    "  else:\n",
    "    if v_f - v_a < -0.1:\n",
    "      act = 1\n",
    "    elif v_f - v_a > 0.1:\n",
    "      act = 2\n",
    "    else:\n",
    "      act = 0\n",
    "      \n",
    "  observe, reward, done, info = env.step(act)\n",
    "  \n",
    "  r_a, c_a = get_pos_player(observe)\n",
    "  r_f, c_f = get_pos_flags(observe)\n",
    "  observe[int(r_a), int(c_a)] = [0, 0, 0] # draw a dot to check the player's location.\n",
    "  observe[int(r_f), int(c_f)] = [0, 0, 0] # draw a dot to check the target's location.\n",
    "  if step % 3 == 0:\n",
    "    render(observe[28:-52,8:152], step)"
   ]
  }
 ],
 "metadata": {
  "kernelspec": {
   "display_name": "Python 3",
   "language": "python",
   "name": "python3"
  },
  "language_info": {
   "codemirror_mode": {
    "name": "ipython",
    "version": 3
   },
   "file_extension": ".py",
   "mimetype": "text/x-python",
   "name": "python",
   "nbconvert_exporter": "python",
   "pygments_lexer": "ipython3",
   "version": "3.5.2"
  }
 },
 "nbformat": 4,
 "nbformat_minor": 2
}
